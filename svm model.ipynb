{
 "cells": [
  {
   "cell_type": "code",
   "execution_count": 1,
   "id": "d1b5d37b",
   "metadata": {},
   "outputs": [
    {
     "name": "stdout",
     "output_type": "stream",
     "text": [
      "Requirement already satisfied: pandas in c:\\users\\custom pc\\anaconda3\\lib\\site-packages (1.3.4)\n",
      "Requirement already satisfied: numpy>=1.17.3 in c:\\users\\custom pc\\anaconda3\\lib\\site-packages (from pandas) (1.20.3)\n",
      "Requirement already satisfied: pytz>=2017.3 in c:\\users\\custom pc\\anaconda3\\lib\\site-packages (from pandas) (2021.3)\n",
      "Requirement already satisfied: python-dateutil>=2.7.3 in c:\\users\\custom pc\\anaconda3\\lib\\site-packages (from pandas) (2.8.2)\n",
      "Requirement already satisfied: six>=1.5 in c:\\users\\custom pc\\anaconda3\\lib\\site-packages (from python-dateutil>=2.7.3->pandas) (1.16.0)\n",
      "Requirement already satisfied: numpy in c:\\users\\custom pc\\anaconda3\\lib\\site-packages (1.20.3)\n"
     ]
    }
   ],
   "source": [
    "!pip install pandas\n",
    "!pip install numpy"
   ]
  },
  {
   "cell_type": "code",
   "execution_count": 2,
   "id": "72dc7d43",
   "metadata": {},
   "outputs": [],
   "source": [
    "import pandas as pd\n",
    "import numpy as np"
   ]
  },
  {
   "cell_type": "code",
   "execution_count": 3,
   "id": "abb2e3fa",
   "metadata": {},
   "outputs": [],
   "source": [
    "from sklearn.model_selection import train_test_split\n",
    "from sklearn.feature_extraction.text import TfidfVectorizer\n",
    "from sklearn import svm\n",
    "from sklearn.metrics import accuracy_score, confusion_matrix"
   ]
  },
  {
   "cell_type": "code",
   "execution_count": 4,
   "id": "a97a40eb",
   "metadata": {},
   "outputs": [
    {
     "name": "stdout",
     "output_type": "stream",
     "text": [
      "0       Rajasthan on Wednesday reported 74 new coronav...\n",
      "1       The total number of coronavirus cases in Delhi...\n",
      "2       Condoling the demise of actor Rishi Kapoor, PM...\n",
      "3       Congress leader Rahul Gandhi condoled Rishi Ka...\n",
      "4       As a sign of respect for healthcare profession...\n",
      "                              ...                        \n",
      "4050    Adhering to a policy of \"zero tolerance\" for c...\n",
      "4051    While addressing a rally in South Carolina, US...\n",
      "4052    After AAP government granted sanction to Delhi...\n",
      "4053    Kamil Siedcynski, a Polish student at Kolkata'...\n",
      "4054    Police have lodged 22 FIRs against anti-CAA pr...\n",
      "Name: text, Length: 4055, dtype: object\n",
      "0       POSITIVE\n",
      "1       POSITIVE\n",
      "2       NEGATIVE\n",
      "3       POSITIVE\n",
      "4       NEGATIVE\n",
      "          ...   \n",
      "4050    POSITIVE\n",
      "4051    NEGATIVE\n",
      "4052    POSITIVE\n",
      "4053    POSITIVE\n",
      "4054    POSITIVE\n",
      "Name: label, Length: 4055, dtype: object\n"
     ]
    }
   ],
   "source": [
    "dataframe = pd.read_csv('news.csv')\n",
    "dataframe.head()\n",
    "\n",
    "## Split data into X & Y\n",
    "x = dataframe['text']\n",
    "y = dataframe['label']\n",
    "\n",
    "print(x)\n",
    "print(y)"
   ]
  },
  {
   "cell_type": "code",
   "execution_count": 5,
   "id": "ddc7d2ec",
   "metadata": {},
   "outputs": [],
   "source": [
    "x_train,x_test,y_train,y_test = train_test_split(x,y,test_size=0.2,random_state=0)"
   ]
  },
  {
   "cell_type": "code",
   "execution_count": 6,
   "id": "7f4e965d",
   "metadata": {},
   "outputs": [],
   "source": [
    "## Now we need to fit the TFIDF Vectorizer.\n",
    "# max_df = 0.50 means \"ignore terms that appear in more than 50% of the documents\".\n",
    "# max_df = 25 means \"ignore terms that appear in more than 25 documents\".\n",
    "\n",
    "tfvect = TfidfVectorizer(stop_words='english',max_df=0.7)\n",
    "tfid_x_train = tfvect.fit_transform(x_train)\n",
    "tfid_x_test = tfvect.transform(x_test)\n",
    "\n",
    "## Now let's fit the Machine Learning Model"
   ]
  },
  {
   "cell_type": "code",
   "execution_count": 7,
   "id": "d670c0ff",
   "metadata": {},
   "outputs": [
    {
     "data": {
      "text/plain": [
       "SVC(C=2, gamma='auto', kernel='linear')"
      ]
     },
     "execution_count": 7,
     "metadata": {},
     "output_type": "execute_result"
    }
   ],
   "source": [
    "## Now let's fit the Machine Learning Model\n",
    "classifier = svm.SVC(kernel = 'linear', gamma='auto', C=2)\n",
    "classifier.fit(tfid_x_train,y_train)"
   ]
  },
  {
   "cell_type": "code",
   "execution_count": 8,
   "id": "d7917a3e",
   "metadata": {},
   "outputs": [
    {
     "name": "stdout",
     "output_type": "stream",
     "text": [
      "Accuracy: 81.26%\n",
      "[[174  86]\n",
      " [ 66 485]]\n"
     ]
    }
   ],
   "source": [
    "##  check model accuracy. \n",
    "\n",
    "y_pred = classifier.predict(tfid_x_test)\n",
    "score = accuracy_score(y_test,y_pred)\n",
    "print(f'Accuracy: {round(score*100,2)}%')\n",
    "\n",
    "cf = confusion_matrix(y_test,y_pred, labels=['NEGATIVE','POSITIVE'])\n",
    "print(cf)\n"
   ]
  },
  {
   "cell_type": "code",
   "execution_count": 9,
   "id": "888a1e28",
   "metadata": {},
   "outputs": [],
   "source": [
    "## Let's create function for test the model on the real-time data.\n",
    "\n",
    "def fake_news_det(news):\n",
    "    input_data = [news]\n",
    "    vectorized_input_data = tfvect.transform(input_data)\n",
    "    prediction = classifier.predict(vectorized_input_data)\n",
    "    print(prediction)"
   ]
  },
  {
   "cell_type": "code",
   "execution_count": 10,
   "id": "0b04a3a6",
   "metadata": {},
   "outputs": [],
   "source": [
    "import pickle\n",
    "pickle.dump(classifier,open('model.pkl', 'wb'))"
   ]
  },
  {
   "cell_type": "code",
   "execution_count": null,
   "id": "511b6477",
   "metadata": {},
   "outputs": [],
   "source": []
  }
 ],
 "metadata": {
  "kernelspec": {
   "display_name": "Python 3 (ipykernel)",
   "language": "python",
   "name": "python3"
  },
  "language_info": {
   "codemirror_mode": {
    "name": "ipython",
    "version": 3
   },
   "file_extension": ".py",
   "mimetype": "text/x-python",
   "name": "python",
   "nbconvert_exporter": "python",
   "pygments_lexer": "ipython3",
   "version": "3.9.7"
  }
 },
 "nbformat": 4,
 "nbformat_minor": 5
}
